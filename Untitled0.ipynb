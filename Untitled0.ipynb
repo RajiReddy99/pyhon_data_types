{
  "nbformat": 4,
  "nbformat_minor": 0,
  "metadata": {
    "colab": {
      "provenance": [],
      "toc_visible": true,
      "authorship_tag": "ABX9TyO7n8I1DwJH/NrWHc7Z0zyQ",
      "include_colab_link": true
    },
    "kernelspec": {
      "name": "python3",
      "display_name": "Python 3"
    },
    "language_info": {
      "name": "python"
    }
  },
  "cells": [
    {
      "cell_type": "markdown",
      "metadata": {
        "id": "view-in-github",
        "colab_type": "text"
      },
      "source": [
        "<a href=\"https://colab.research.google.com/github/RajiReddy99/pyhon_data_types/blob/main/Untitled0.ipynb\" target=\"_parent\"><img src=\"https://colab.research.google.com/assets/colab-badge.svg\" alt=\"Open In Colab\"/></a>"
      ]
    },
    {
      "cell_type": "code",
      "source": [
        "print(\"Hello\")"
      ],
      "metadata": {
        "colab": {
          "base_uri": "https://localhost:8080/"
        },
        "id": "LW8ZbR19gLRa",
        "outputId": "22dbfc1b-6520-43bf-ff64-ebd594670f53"
      },
      "execution_count": 3,
      "outputs": [
        {
          "output_type": "stream",
          "name": "stdout",
          "text": [
            "Hello\n"
          ]
        }
      ]
    },
    {
      "cell_type": "code",
      "source": [
        "x = 34.56\n",
        "y = 3.5\n",
        "print(\"x = \", x)\n",
        "print(\"y = \", y)\n",
        "x += y\n",
        "print(\"x += y: \", x)\n",
        "x = 34.56\n",
        "x -= y\n",
        "print(\"x -= y: \", x)\n",
        "x = 34.56\n",
        "x *= y\n",
        "print(\"x *= y: \", x)\n",
        "x = 34.56\n",
        "x /= y\n",
        "print(\"x /= y: \", x)\n",
        "x = 34.56\n",
        "x %= y\n",
        "print(\"x %= y: \", x)\n",
        "x = 34.56\n",
        "x **= y\n",
        "print(\"x **= y: \", x)\n",
        "x = 34.56\n",
        "x //= y\n",
        "print(\"x //= y: \", x)"
      ],
      "metadata": {
        "colab": {
          "base_uri": "https://localhost:8080/"
        },
        "id": "fco1MaY1gYbW",
        "outputId": "3893203c-5eb0-4b68-a631-9b490a601bfc"
      },
      "execution_count": 4,
      "outputs": [
        {
          "output_type": "stream",
          "name": "stdout",
          "text": [
            "x =  34.56\n",
            "y =  3.5\n",
            "x += y:  38.06\n",
            "x -= y:  31.060000000000002\n",
            "x *= y:  120.96000000000001\n",
            "x /= y:  9.874285714285715\n",
            "x %= y:  3.0600000000000023\n",
            "x **= y:  242665.51770697304\n",
            "x //= y:  9.0\n"
          ]
        }
      ]
    },
    {
      "cell_type": "code",
      "source": [
        "x = 34.56\n",
        "y = 3.5\n",
        "\n",
        "print(\"x > y:\", x > y)\n",
        "print(\"x < y:\", x < y)\n",
        "print(\"x >= y:\", x >= y)\n",
        "print(\"x <= y:\", x <= y)\n",
        "print(\"x == y:\", x == y)\n",
        "print(\"x != y:\", x != y)"
      ],
      "metadata": {
        "colab": {
          "base_uri": "https://localhost:8080/"
        },
        "id": "jEvNnXLVghAf",
        "outputId": "d4fde3c2-da3a-4616-97b0-553c12c3bc34"
      },
      "execution_count": 5,
      "outputs": [
        {
          "output_type": "stream",
          "name": "stdout",
          "text": [
            "x > y: True\n",
            "x < y: False\n",
            "x >= y: True\n",
            "x <= y: False\n",
            "x == y: False\n",
            "x != y: True\n"
          ]
        }
      ]
    },
    {
      "cell_type": "code",
      "source": [
        "x = 34.56\n",
        "y = 3.5\n",
        "\n",
        "print(\"x > y and x > 10:\", x > y and x > 10)\n",
        "print(\"x > y or x > 10:\", x > y or x > 10)\n",
        "print(\"not x > y:\", not x > y)"
      ],
      "metadata": {
        "colab": {
          "base_uri": "https://localhost:8080/"
        },
        "id": "CUzFL3qeg8w6",
        "outputId": "eb581b96-327f-4df3-90e3-64ec027f3935"
      },
      "execution_count": 6,
      "outputs": [
        {
          "output_type": "stream",
          "name": "stdout",
          "text": [
            "x > y and x > 10: True\n",
            "x > y or x > 10: True\n",
            "not x > y: False\n"
          ]
        }
      ]
    },
    {
      "cell_type": "code",
      "source": [],
      "metadata": {
        "id": "maOhRxQXhw4j"
      },
      "execution_count": null,
      "outputs": []
    }
  ]
}